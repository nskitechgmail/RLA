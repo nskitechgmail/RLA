{
 "cells": [
  {
   "cell_type": "code",
   "execution_count": 1,
   "id": "922b42ad-baf8-4d66-8422-32fb1a2ce21b",
   "metadata": {},
   "outputs": [
    {
     "name": "stdout",
     "output_type": "stream",
     "text": [
      "Episode 1: Total Reward = 11.0\n",
      "Episode 2: Total Reward = 16.0\n",
      "Episode 3: Total Reward = 32.0\n",
      "Episode 4: Total Reward = 29.0\n",
      "Episode 5: Total Reward = 20.0\n"
     ]
    },
    {
     "name": "stderr",
     "output_type": "stream",
     "text": [
      "C:\\Users\\nskit\\anaconda3\\Lib\\site-packages\\gym\\envs\\classic_control\\cartpole.py:211: UserWarning: \u001b[33mWARN: You are calling render method without specifying any render mode. You can specify the render_mode at initialization, e.g. gym(\"CartPole-v1\", render_mode=\"rgb_array\")\u001b[0m\n",
      "  gym.logger.warn(\n",
      "C:\\Users\\nskit\\anaconda3\\Lib\\site-packages\\gym\\utils\\passive_env_checker.py:233: DeprecationWarning: `np.bool8` is a deprecated alias for `np.bool_`.  (Deprecated NumPy 1.24)\n",
      "  if not isinstance(terminated, (bool, np.bool8)):\n"
     ]
    }
   ],
   "source": [
    "import gym\n",
    "\n",
    "# Create the Cart-Pole environment\n",
    "env = gym.make(\"CartPole-v1\")\n",
    "\n",
    "# Run episodes using a random policy\n",
    "num_episodes = 5\n",
    "\n",
    "for episode in range(num_episodes):\n",
    "    state = env.reset()\n",
    "    done = False\n",
    "    total_reward = 0\n",
    "\n",
    "    while not done:\n",
    "        env.render()  # Render the environment (optional)\n",
    "        action = env.action_space.sample()  # Random action\n",
    "        next_state, reward, done, _, _ = env.step(action)  # Take action\n",
    "        total_reward += reward\n",
    "\n",
    "    print(f\"Episode {episode + 1}: Total Reward = {total_reward}\")\n",
    "\n",
    "env.close()\n"
   ]
  },
  {
   "cell_type": "code",
   "execution_count": 2,
   "id": "75be576b-db4f-4663-a7fd-83d175a6a019",
   "metadata": {},
   "outputs": [
    {
     "name": "stdout",
     "output_type": "stream",
     "text": [
      "Episode 500, Total Reward: 36.0, Epsilon: 0.082\n",
      "Episode 1000, Total Reward: 30.0, Epsilon: 0.010\n",
      "Episode 1500, Total Reward: 40.0, Epsilon: 0.010\n",
      "Episode 2000, Total Reward: 37.0, Epsilon: 0.010\n",
      "Episode 2500, Total Reward: 37.0, Epsilon: 0.010\n",
      "Episode 3000, Total Reward: 38.0, Epsilon: 0.010\n",
      "Episode 3500, Total Reward: 45.0, Epsilon: 0.010\n",
      "Episode 4000, Total Reward: 31.0, Epsilon: 0.010\n",
      "Episode 4500, Total Reward: 37.0, Epsilon: 0.010\n",
      "Episode 5000, Total Reward: 41.0, Epsilon: 0.010\n"
     ]
    }
   ],
   "source": [
    "import numpy as np\n",
    "import gym\n",
    "import random\n",
    "\n",
    "# Initialize environment\n",
    "env = gym.make(\"CartPole-v1\")\n",
    "state_size = env.observation_space.shape[0]\n",
    "action_size = env.action_space.n\n",
    "\n",
    "# Discretization of continuous state space (for Q-learning)\n",
    "num_bins = 20  # Discretization levels per state variable\n",
    "state_bins = [\n",
    "    np.linspace(-4.8, 4.8, num_bins),  # Cart position\n",
    "    np.linspace(-5, 5, num_bins),      # Cart velocity\n",
    "    np.linspace(-0.418, 0.418, num_bins),  # Pole angle\n",
    "    np.linspace(-5, 5, num_bins)       # Pole velocity\n",
    "]\n",
    "\n",
    "# Initialize Q-table\n",
    "q_table = np.zeros((num_bins, num_bins, num_bins, num_bins, action_size))\n",
    "\n",
    "# Hyperparameters\n",
    "learning_rate = 0.1\n",
    "discount_factor = 0.99\n",
    "epsilon = 1.0  # Initial exploration rate\n",
    "epsilon_decay = 0.995\n",
    "min_epsilon = 0.01\n",
    "num_episodes = 5000\n",
    "\n",
    "# Function to discretize state\n",
    "def discretize_state(state):\n",
    "    discretized = [np.digitize(state[i], state_bins[i]) - 1 for i in range(len(state))]\n",
    "    return tuple(discretized)\n",
    "\n",
    "# Training Loop\n",
    "for episode in range(num_episodes):\n",
    "    state = discretize_state(env.reset()[0])\n",
    "    done = False\n",
    "    total_reward = 0\n",
    "\n",
    "    while not done:\n",
    "        # Choose action using epsilon-greedy policy\n",
    "        if random.uniform(0, 1) < epsilon:\n",
    "            action = env.action_space.sample()  # Explore\n",
    "        else:\n",
    "            action = np.argmax(q_table[state])  # Exploit\n",
    "        \n",
    "        # Take action and observe reward\n",
    "        next_state, reward, done, _, _ = env.step(action)\n",
    "        next_state = discretize_state(next_state)\n",
    "        \n",
    "        # Update Q-value using the Q-learning update rule\n",
    "        best_next_action = np.argmax(q_table[next_state])\n",
    "        q_table[state + (action,)] += learning_rate * (reward + discount_factor * q_table[next_state + (best_next_action,)] - q_table[state + (action,)])\n",
    "\n",
    "        state = next_state\n",
    "        total_reward += reward\n",
    "\n",
    "    # Reduce epsilon (exploration) over time\n",
    "    epsilon = max(min_epsilon, epsilon * epsilon_decay)\n",
    "\n",
    "    if (episode + 1) % 500 == 0:\n",
    "        print(f\"Episode {episode + 1}, Total Reward: {total_reward}, Epsilon: {epsilon:.3f}\")\n",
    "\n",
    "env.close()\n"
   ]
  },
  {
   "cell_type": "code",
   "execution_count": null,
   "id": "6a044264-6e25-4692-8de4-dabc1261097c",
   "metadata": {},
   "outputs": [],
   "source": []
  }
 ],
 "metadata": {
  "kernelspec": {
   "display_name": "Python 3 (ipykernel)",
   "language": "python",
   "name": "python3"
  },
  "language_info": {
   "codemirror_mode": {
    "name": "ipython",
    "version": 3
   },
   "file_extension": ".py",
   "mimetype": "text/x-python",
   "name": "python",
   "nbconvert_exporter": "python",
   "pygments_lexer": "ipython3",
   "version": "3.11.7"
  }
 },
 "nbformat": 4,
 "nbformat_minor": 5
}
