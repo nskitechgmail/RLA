{
 "cells": [
  {
   "cell_type": "code",
   "execution_count": 1,
   "id": "08028131-2a86-4e84-989e-0f2f1fbcdcfc",
   "metadata": {},
   "outputs": [
    {
     "name": "stdout",
     "output_type": "stream",
     "text": [
      "Training completed and Q-table saved!\n"
     ]
    }
   ],
   "source": [
    "import numpy as np\n",
    "import random\n",
    "import pickle\n",
    "\n",
    "class TicTacToe:\n",
    "    def __init__(self):\n",
    "        self.board = [' '] * 9  # 3x3 board in a 1D list\n",
    "        self.current_player = 'X'\n",
    "    \n",
    "    def reset(self):\n",
    "        self.board = [' '] * 9\n",
    "        self.current_player = 'X'\n",
    "        return tuple(self.board)\n",
    "\n",
    "    def get_available_actions(self):\n",
    "        return [i for i in range(9) if self.board[i] == ' ']\n",
    "\n",
    "    def make_move(self, action):\n",
    "        if self.board[action] == ' ':\n",
    "            self.board[action] = self.current_player\n",
    "            if self.check_winner(self.current_player):\n",
    "                return tuple(self.board), 1 if self.current_player == 'X' else -1, True\n",
    "            elif ' ' not in self.board:\n",
    "                return tuple(self.board), 0.5, True\n",
    "            self.current_player = 'O' if self.current_player == 'X' else 'X'\n",
    "            return tuple(self.board), 0, False\n",
    "        return tuple(self.board), -1, False  # Invalid move penalty\n",
    "\n",
    "    def check_winner(self, player):\n",
    "        win_states = [(0,1,2), (3,4,5), (6,7,8), \n",
    "                      (0,3,6), (1,4,7), (2,5,8), \n",
    "                      (0,4,8), (2,4,6)]\n",
    "        return any(all(self.board[i] == player for i in combo) for combo in win_states)\n",
    "\n",
    "class QLearningAgent:\n",
    "    def __init__(self, alpha=0.1, gamma=0.9, epsilon=0.2):\n",
    "        self.q_table = {}  # Q-values storage\n",
    "        self.alpha = alpha  # Learning rate\n",
    "        self.gamma = gamma  # Discount factor\n",
    "        self.epsilon = epsilon  # Exploration rate\n",
    "\n",
    "    def get_q_value(self, state, action):\n",
    "        return self.q_table.get((state, action), 0)\n",
    "\n",
    "    def choose_action(self, state, available_actions):\n",
    "        if random.uniform(0, 1) < self.epsilon:  # Explore\n",
    "            return random.choice(available_actions)\n",
    "        # Exploit: Pick best action based on Q-values\n",
    "        q_values = {a: self.get_q_value(state, a) for a in available_actions}\n",
    "        return max(q_values, key=q_values.get)\n",
    "\n",
    "    def update_q_table(self, state, action, reward, next_state, done):\n",
    "        old_value = self.get_q_value(state, action)\n",
    "        future_max = max([self.get_q_value(next_state, a) for a in range(9) if next_state[a] == ' '], default=0)\n",
    "        new_value = old_value + self.alpha * (reward + self.gamma * future_max * (1 - int(done)) - old_value)\n",
    "        self.q_table[(state, action)] = new_value\n",
    "\n",
    "def train_q_agent(episodes=10000):\n",
    "    env = TicTacToe()\n",
    "    agent = QLearningAgent()\n",
    "\n",
    "    for _ in range(episodes):\n",
    "        state = env.reset()\n",
    "        done = False\n",
    "        while not done:\n",
    "            action = agent.choose_action(state, env.get_available_actions())\n",
    "            next_state, reward, done = env.make_move(action)\n",
    "            agent.update_q_table(state, action, reward, next_state, done)\n",
    "            state = next_state\n",
    "\n",
    "    with open(\"q_table.pkl\", \"wb\") as f:\n",
    "        pickle.dump(agent.q_table, f)\n",
    "    print(\"Training completed and Q-table saved!\")\n",
    "\n",
    "if __name__ == \"__main__\":\n",
    "    train_q_agent()\n"
   ]
  },
  {
   "cell_type": "code",
   "execution_count": 2,
   "id": "675e82b7-f782-467b-9d09-b2c8746c52f6",
   "metadata": {},
   "outputs": [
    {
     "name": "stdout",
     "output_type": "stream",
     "text": [
      "Your move! (Positions: 0-8)\n",
      "\n",
      "     \n",
      "     \n",
      "     \n"
     ]
    },
    {
     "name": "stdin",
     "output_type": "stream",
     "text": [
      "Enter position:  1\n"
     ]
    },
    {
     "name": "stdout",
     "output_type": "stream",
     "text": [
      "\n",
      "  X  \n",
      "     \n",
      "     \n",
      "AI chooses: 7\n",
      "\n",
      "  X  \n",
      "     \n",
      "  O  \n"
     ]
    },
    {
     "name": "stdin",
     "output_type": "stream",
     "text": [
      "Enter position:  0\n"
     ]
    },
    {
     "name": "stdout",
     "output_type": "stream",
     "text": [
      "\n",
      "X X  \n",
      "     \n",
      "  O  \n",
      "AI chooses: 8\n",
      "\n",
      "X X  \n",
      "     \n",
      "  O O\n"
     ]
    },
    {
     "name": "stdin",
     "output_type": "stream",
     "text": [
      "Enter position:  2\n"
     ]
    },
    {
     "name": "stdout",
     "output_type": "stream",
     "text": [
      "\n",
      "Final Board:\n",
      "X X X\n",
      "     \n",
      "  O O\n",
      "X wins!\n"
     ]
    }
   ],
   "source": [
    "def play_against_q_agent():\n",
    "    with open(\"q_table.pkl\", \"rb\") as f:\n",
    "        q_table = pickle.load(f)\n",
    "\n",
    "    env = TicTacToe()\n",
    "    agent = QLearningAgent()\n",
    "    agent.q_table = q_table  # Load trained Q-values\n",
    "\n",
    "    state = env.reset()\n",
    "    print(\"Your move! (Positions: 0-8)\")\n",
    "    \n",
    "    while True:\n",
    "        print(\"\\n\" + \"\\n\".join([' '.join(env.board[i:i+3]) for i in range(0, 9, 3)]))\n",
    "        if env.current_player == 'X':  # Human\n",
    "            move = int(input(\"Enter position: \"))\n",
    "        else:  # AI\n",
    "            move = agent.choose_action(state, env.get_available_actions())\n",
    "            print(f\"AI chooses: {move}\")\n",
    "\n",
    "        state, reward, done = env.make_move(move)\n",
    "        if done:\n",
    "            print(\"\\nFinal Board:\")\n",
    "            print(\"\\n\".join([' '.join(env.board[i:i+3]) for i in range(0, 9, 3)]))\n",
    "            if reward == 1:\n",
    "                print(\"X wins!\")\n",
    "            elif reward == -1:\n",
    "                print(\"O wins!\")\n",
    "            else:\n",
    "                print(\"It's a draw!\")\n",
    "            break\n",
    "\n",
    "play_against_q_agent()\n"
   ]
  },
  {
   "cell_type": "code",
   "execution_count": null,
   "id": "c3dafc5d-aa00-46fd-ad5a-e92a0d27ba3a",
   "metadata": {},
   "outputs": [],
   "source": []
  }
 ],
 "metadata": {
  "kernelspec": {
   "display_name": "Python 3 (ipykernel)",
   "language": "python",
   "name": "python3"
  },
  "language_info": {
   "codemirror_mode": {
    "name": "ipython",
    "version": 3
   },
   "file_extension": ".py",
   "mimetype": "text/x-python",
   "name": "python",
   "nbconvert_exporter": "python",
   "pygments_lexer": "ipython3",
   "version": "3.11.7"
  }
 },
 "nbformat": 4,
 "nbformat_minor": 5
}
