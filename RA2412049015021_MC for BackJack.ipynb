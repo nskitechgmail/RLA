{
 "cells": [
  {
   "cell_type": "code",
   "execution_count": 2,
   "id": "a1f6e906-59c9-46c4-9c10-6bcd264914fd",
   "metadata": {},
   "outputs": [
    {
     "name": "stdout",
     "output_type": "stream",
     "text": [
      "Monte Carlo Blackjack Results (100000 simulations):\n",
      "Win Rate: 41.19%\n",
      "Loss Rate: 48.27%\n",
      "Draw Rate: 10.54%\n"
     ]
    }
   ],
   "source": [
    "import random\n",
    "\n",
    "# Blackjack card values\n",
    "CARD_VALUES = {\n",
    "    \"2\": 2, \"3\": 3, \"4\": 4, \"5\": 5, \"6\": 6, \"7\": 7, \"8\": 8, \"9\": 9, \"10\": 10,\n",
    "    \"J\": 10, \"Q\": 10, \"K\": 10, \"A\": 11  # Aces are handled separately\n",
    "}\n",
    "\n",
    "# Function to draw a card\n",
    "def draw_card():\n",
    "    return random.choice(list(CARD_VALUES.keys()))\n",
    "\n",
    "# Function to calculate hand value\n",
    "def calculate_hand(hand):\n",
    "    value = sum(CARD_VALUES[card] for card in hand)\n",
    "    num_aces = hand.count(\"A\")\n",
    "    while value > 21 and num_aces:\n",
    "        value -= 10  # Convert an Ace from 11 to 1\n",
    "        num_aces -= 1\n",
    "    return value\n",
    "\n",
    "# Simulate one Blackjack round\n",
    "def play_blackjack(strategy=\"hit_until_17\"):\n",
    "    player_hand = [draw_card(), draw_card()]\n",
    "    dealer_hand = [draw_card(), draw_card()]\n",
    "\n",
    "    # Player turn\n",
    "    while strategy == \"hit_until_17\" and calculate_hand(player_hand) < 17:\n",
    "        player_hand.append(draw_card())\n",
    "\n",
    "    player_total = calculate_hand(player_hand)\n",
    "    if player_total > 21:  # Bust\n",
    "        return -1  # Loss\n",
    "\n",
    "    # Dealer turn (hits until 17 or more)\n",
    "    while calculate_hand(dealer_hand) < 17:\n",
    "        dealer_hand.append(draw_card())\n",
    "\n",
    "    dealer_total = calculate_hand(dealer_hand)\n",
    "\n",
    "    # Determine outcome\n",
    "    if dealer_total > 21 or player_total > dealer_total:\n",
    "        return 1  # Win\n",
    "    elif player_total < dealer_total:\n",
    "        return -1  # Loss\n",
    "    else:\n",
    "        return 0  # Draw\n",
    "\n",
    "# Monte Carlo Simulation\n",
    "def monte_carlo_blackjack(num_simulations=100000):\n",
    "    results = {\"win\": 0, \"loss\": 0, \"draw\": 0}\n",
    "\n",
    "    for _ in range(num_simulations):\n",
    "        outcome = play_blackjack()\n",
    "        if outcome == 1:\n",
    "            results[\"win\"] += 1\n",
    "        elif outcome == -1:\n",
    "            results[\"loss\"] += 1\n",
    "        else:\n",
    "            results[\"draw\"] += 1\n",
    "\n",
    "    win_rate = results[\"win\"] / num_simulations\n",
    "    loss_rate = results[\"loss\"] / num_simulations\n",
    "    draw_rate = results[\"draw\"] / num_simulations\n",
    "\n",
    "    print(f\"Monte Carlo Blackjack Results ({num_simulations} simulations):\")\n",
    "    print(f\"Win Rate: {win_rate:.2%}\")\n",
    "    print(f\"Loss Rate: {loss_rate:.2%}\")\n",
    "    print(f\"Draw Rate: {draw_rate:.2%}\")\n",
    "\n",
    "# Run the simulation\n",
    "monte_carlo_blackjack(100000)\n"
   ]
  },
  {
   "cell_type": "code",
   "execution_count": null,
   "id": "af540f05-71ac-4559-8b86-c5da1451e2a7",
   "metadata": {},
   "outputs": [],
   "source": []
  }
 ],
 "metadata": {
  "kernelspec": {
   "display_name": "Python 3 (ipykernel)",
   "language": "python",
   "name": "python3"
  },
  "language_info": {
   "codemirror_mode": {
    "name": "ipython",
    "version": 3
   },
   "file_extension": ".py",
   "mimetype": "text/x-python",
   "name": "python",
   "nbconvert_exporter": "python",
   "pygments_lexer": "ipython3",
   "version": "3.11.7"
  }
 },
 "nbformat": 4,
 "nbformat_minor": 5
}
